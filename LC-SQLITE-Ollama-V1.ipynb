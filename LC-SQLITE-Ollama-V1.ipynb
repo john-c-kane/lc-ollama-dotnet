{
 "cells": [
  {
   "cell_type": "code",
   "execution_count": 1,
   "metadata": {
    "dotnet_interactive": {
     "language": "csharp"
    },
    "polyglot_notebook": {
     "kernelName": "csharp"
    },
    "vscode": {
     "languageId": "polyglot-notebook"
    }
   },
   "outputs": [
    {
     "data": {
      "text/html": [
       "<div><div></div><div></div><div><strong>Installed Packages</strong><ul><li><span>Langchain, 0.14.1-dev.30</span></li><li><span>Langchain.Core, 0.14.1-dev.30</span></li><li><span>LangChain.Databases.Sqlite, 0.14.1-dev.30</span></li><li><span>LangChain.DocumentLoaders.Pdf, 0.14.1-dev.30</span></li><li><span>LangChain.Providers.Ollama, 0.14.1-dev.30</span></li><li><span>LangChain.Splitters.CSharp, 0.14.1-dev.30</span></li><li><span>Ollama, 1.0.0</span></li></ul></div></div>"
      ]
     },
     "metadata": {},
     "output_type": "display_data"
    }
   ],
   "source": [
    "#r \"nuget: Langchain, *-*\"\n",
    "#r \"nuget: Langchain.Core,*-*\"\n",
    "#r \"nuget: LangChain.DocumentLoaders.Pdf, *-*\"\n",
    "#r \"nuget: LangChain.Databases.Sqlite, *-*\"\n",
    "#r \"nuget: LangChain.Providers.Ollama, *-*\"\n",
    "#r \"nuget: LangChain.Splitters.CSharp, *-*\"\n",
    "#r \"nuget: Ollama, *-*\""
   ]
  },
  {
   "cell_type": "code",
   "execution_count": 2,
   "metadata": {
    "dotnet_interactive": {
     "language": "csharp"
    },
    "polyglot_notebook": {
     "kernelName": "csharp"
    },
    "vscode": {
     "languageId": "polyglot-notebook"
    }
   },
   "outputs": [],
   "source": [
    "using LangChain.Databases.Sqlite;\n",
    "using LangChain.DocumentLoaders;\n",
    "using LangChain.Providers.Ollama;\n",
    "using LangChain.Extensions;\n",
    "using Ollama;"
   ]
  },
  {
   "cell_type": "code",
   "execution_count": 3,
   "metadata": {
    "dotnet_interactive": {
     "language": "csharp"
    },
    "polyglot_notebook": {
     "kernelName": "csharp"
    },
    "vscode": {
     "languageId": "polyglot-notebook"
    }
   },
   "outputs": [],
   "source": [
    "var provider = new OllamaProvider(options: new RequestOptions\n",
    "{\n",
    "    Stop = [\"\\n\"],\n",
    "    Temperature = 0.0f,\n",
    "});\n",
    "var embeddingModel = new OllamaEmbeddingModel(provider, id: \"all-minilm\");\n",
    "//var embeddingModel = new OllamaEmbeddingModel(provider, id: \"nomic-embed-text\");\n",
    "//var embeddingModel = new OllamaEmbeddingModel(provider, id: \"mxbai-embed-large\")\n",
    "var llm = new OllamaChatModel(provider, id: \"llama3\");\n",
    "var vectorDatabase = new SqLiteVectorDatabase(dataSource: \"vectors.db\");"
   ]
  },
  {
   "cell_type": "code",
   "execution_count": 4,
   "metadata": {
    "dotnet_interactive": {
     "language": "csharp"
    },
    "polyglot_notebook": {
     "kernelName": "csharp"
    },
    "vscode": {
     "languageId": "polyglot-notebook"
    }
   },
   "outputs": [],
   "source": [
    "var vectorCollection = await vectorDatabase.AddDocumentsFromAsync<PdfPigPdfLoader>(\n",
    "    embeddingModel, // Used to convert text to embeddings\n",
    "    dimensions: 1536, // Should be 1536 for TextEmbeddingV3SmallModel\n",
    "    //dimensions: 384, \n",
    "    dataSource: DataSource.FromUrl(\"https://canonburyprimaryschool.co.uk/wp-content/uploads/2016/01/Joanne-K.-Rowling-Harry-Potter-Book-1-Harry-Potter-and-the-Philosophers-Stone-EnglishOnlineClub.com_.pdf\"),\n",
    "    collectionName: \"harrypotter\", // Can be omitted, use if you want to have multiple collections\n",
    "    textSplitter: null,\n",
    "    behavior: AddDocumentsToDatabaseBehavior.JustReturnCollectionIfCollectionIsAlreadyExists);\n",
    "     "
   ]
  },
  {
   "cell_type": "code",
   "execution_count": 5,
   "metadata": {
    "dotnet_interactive": {
     "language": "csharp"
    },
    "polyglot_notebook": {
     "kernelName": "csharp"
    },
    "vscode": {
     "languageId": "polyglot-notebook"
    }
   },
   "outputs": [
    {
     "name": "stdout",
     "output_type": "stream",
     "text": [
      "LLM answer:  The address written on the letter is: Mr H. Potter The Cupboard under the Stairs 4 Privet Drive Little Whinging Surrey\n",
      "Similar Documents:\n",
      "(PageContent='42 HARRY  POTTER   they’re famous. You’re famous.’ ‘What? My – my mum and dad weren’t famous, were they?’ ‘Yeh don’ know ... yeh don’ know ...’ Hagrid ran his fingers through his hair, fixing Harry with a bewildered stare. ‘Yeh don’ know what yeh are?’ he said finally. Uncle Vernon suddenly found his voice. ‘Stop!’ he commanded. ‘Stop right there, sir! I forbid you to tell the boy anything!’ A braver man than Vernon Dursley would have quailed under the furious look Hagrid now gave him; when Hagrid spoke, his every syllable trembled with rage. ‘You never told him? Never told him what was in the letter Dumbledore left fer him? I was there! I saw Dumbledore leave it, Dursley! An’ you’ve kept it from him all these years?’ ‘Kept what from me?’ said Harry eagerly. ‘STOP! I FORBID YOU!’ yelled Uncle Vernon in panic. Aunt Petunia gave a gasp of horror. ‘Ah, go boil yer heads, both of yeh,’ said Hagrid. ‘Harry – yer a wizard.’ There was silence inside the hut. Only the sea and the whistling wind could be heard. ‘I’m a what?’ gasped Harry. ‘A wizard, o’ course,’ said Hagrid, sitting back down on the sofa, which groaned and sank even lower, ‘an’ a thumpin’ good’un, I’d say, once yeh’ve been trained up a bit. With a mum an’ dad like yours, what else would yeh be? An’ I reckon it’s abou’ time yeh read yer letter.’ Harry stretched out his hand at last to take the yellowish envelope, addressed in emerald green to Mr H. Potter, The Floor, Hut-on-the-Rock, The Sea. He pulled out the letter and read:  HOGWARTS SCHOOL OF WITCHCRAFT AND WIZARDRY  Headmaster: Albus Dumbledore (Order of Merlin, First Class, Grand Sorc., Chf. Warlock, Supreme Mugwump, International Confed. of Wizards)  Dear Mr Potter, We are pleased to inform you that you have a place at Hogwarts School of Witchcraft and Wizardry. Please find', Metadata=)\n",
      "(PageContent='— CHAPTER TWO —  The Vanishing Glass  Nearly ten years had passed since the Dursleys had woken up to find their nephew on the front step, but Privet Drive had hardly changed at all. The sun rose on the same tidy front gardens and lit up the brass number four on the Dursleys’ front door; it crept into their living-room, which was almost exactly the same as it had been on the night when Mr Dursley had seen that fateful news report about the owls. Only the photographs on the mantelpiece really showed how much time had passed. Ten years ago, there had been lots of pictures of what looked like a large pink beach ball wearing different-coloured bobble hats – but Dudley Dursley was no longer a baby, and now the photographs showed a large, blond boy riding his first bicycle, on a roundabout at the fair, playing a computer game with his father, being hugged and kissed by his mother. The room held no sign at all that another boy lived in the house, too. Yet Harry Potter was still there, asleep at the moment, but not for long. His Aunt Petunia was awake and it was her shrill voice which made the first noise of the day. ‘Up! Get up! Now!’ Harry woke with a start. His aunt rapped on the door again. ‘Up!’ she screeched. Harry heard her walking towards the kitchen and then the sound of the frying pan being put on the cooker. He rolled on to his back and tried to remember the dream he had been having. It had been a good one. There had been a flying motorbike in it. He had a funny feeling he’d had the same dream before. His aunt was back outside the door. ‘Are you up yet?’ she demanded. ‘Nearly,’ said Harry. ‘Well, get a move on, I want you to look after the bacon. And', Metadata=)\n",
      "(PageContent='THE  KEEPER  OF  THE  KEYS 47   ‘Most of us reckon he’s still out there somewhere but lost his powers. Too weak to carry on. ’Cause somethin’ about you finished him, Harry. There was somethin’ goin’ on that night he hadn’t counted on – I dunno what it was, no one does – but somethin’ about you stumped him, all right.’ Hagrid looked at Harry with warmth and respect blazing in his eyes, but Harry, instead of feeling pleased and proud, felt quite sure there had been a horrible mistake. A wizard? Him? How could he possibly be? He’d spent his life being clouted by Dudley and bullied by Aunt Petunia and Uncle Vernon; if he was really a wizard, why hadn’t they been turned into warty toads every time they’d tried to lock him in his cupboard? If he’d once defeated the greatest sorcerer in the world, how come Dudley had always been able to kick him around like a football? ‘Hagrid,’ he said quietly, ‘I think you must have made a mistake. I don’t think I can be a wizard.’ To his surprise, Hagrid chuckled. ‘Not a wizard, eh? Never made things happen when you was scared, or angry?’ Harry looked into the fire. Now he came to think about it ... every odd thing that had ever made his aunt and uncle furious with him had happened when he, Harry, had been upset or angry ... chased by Dudley’s gang, he had somehow found himself out of their reach ... dreading going to school with that ridiculous hair-cut, he’d managed to make it grow back ... and the very last time Dudley had hit him, hadn’t he got his revenge, without even real-ising he was doing it? Hadn’t he set a boa constrictor on him? Harry looked back at Hagrid, smiling, and saw that Hagrid was positively beaming at him. ‘See?’ said Hagrid. ‘Harry Potter, not a wizard – you wait, you’ll be right famous at Hogwarts.’ But Uncle Vernon wasn’t going to give in without a fight. ‘Haven’t I told you he’s not going?’ he hissed. ‘He’s going to Stonewall High and he’ll be grateful for it. I’ve read those letters and he needs all sorts of rubbish – spell books and wands and –’ ‘If he wants ter go, a great Muggle like you won’t stop him,’ growled Hagrid. ‘Stop Lily an’ James Potter’s son goin’ ter Hogwarts! Yer mad. His name’s been down ever since he was born. He’s off ter the finest school of witchcraft and wizardry in the world. Seven years there and he won’t know himself. He’ll be', Metadata=)\n",
      "(PageContent='30 HARRY  POTTER   ‘Poke him with your Smeltings stick, Dudley.’ Harry dodged the Smeltings stick and went to get the post. Three things lay on the doormat: a postcard from Uncle Vernon’s sister Marge, who was holidaying on the Isle of Wight, a brown envelope that looked like a bill and – a letter for Harry. Harry picked it up and stared at it, his heart twanging like a giant elastic band. No one, ever, in his whole life, had written to him. Who would? He had no friends, no other relatives – he didn’t belong to the library so he’d never even got rude notes asking for books back. Yet here it was, a letter, addressed so plainly there could be no mistake:  Mr H. Potter The Cupboard under the Stairs 4 Privet Drive Little Whinging Surrey  The envelope was thick and heavy, made of yellowish parchment, and the address was written in emerald-green ink. There was no stamp. Turning the envelope over, his hand trembling, Harry saw a purple wax seal bearing a coat of arms; a lion, an eagle, a badger and a snake surrounding a large letter ‘H’. ‘Hurry up, boy!’ shouted Uncle Vernon from the kitchen. ‘What are you doing, checking for letter-bombs?’ He chuckled at his own joke. Harry went back to the kitchen, still staring at his letter. He handed Uncle Vernon the bill and the postcard, sat down and slowly began to open the yellow envelope. Uncle Vernon ripped open the bill, snorted in disgust and flipped over the postcard. ‘Marge’s ill,’ he informed Aunt Petunia. ‘Ate a funny whelk ...’ ‘Dad!’ said Dudley suddenly. ‘Dad, Harry’s got something!’ Harry was on the point of unfolding his letter, which was writ-ten on the same heavy parchment as the envelope, when it was jerked sharply out of his hand by Uncle Vernon. ‘That’s mine!’ said Harry, trying to snatch it back. ‘Who’d be writing to you?’ sneered Uncle Vernon, shaking the letter open with one hand and glancing at it. His face went from', Metadata=)\n",
      "(PageContent='THE  JOURNEY  FROM  PLATFORM  NINE  AND  THREE-QUARTERS 75   ‘Er – yes, I think so,’ said Ron. ‘I think Mum’s got a second cousin who’s an accountant, but we never talk about him.’ ‘So you must know loads of magic already.’ The Weasleys were clearly one of those old wizarding families the pale boy in Diagon Alley had talked about. ‘I heard you went to live with Muggles,’ said Ron. ‘What are they like?’ ‘Horrible – well, not all of them. My aunt and uncle and cousin are, though. Wish I’d had three wizard brothers.’ ‘Five,’ said Ron. For some reason, he was looking gloomy. ‘I’m the sixth in our family to go to Hogwarts. You could say I’ve got a lot to live up to. Bill and Charlie have already left – Bill was Head Boy and Charlie was captain of Quidditch. Now Percy’s a Prefect. Fred and George mess around a lot, but they still get really good marks and everyone thinks they’re really funny. Everyone expects me to do as well as the others, but if I do, it’s no big deal, because they did it first. You never get anything new, either, with five brothers. I’ve got Bill’s old robes, Charlie’s old wand and Percy’s old rat.’ Ron reached inside his jacket and pulled out a fat grey rat, which was asleep. ‘His name’s Scabbers and he’s useless, he hardly ever wakes up. Percy got an owl from my dad for being made a Prefect, but they couldn’t aff– I mean, I got Scabbers instead.’ Ron’s ears went pink. He seemed to think he’d said too much, because he went back to staring out of the window. Harry didn’t think there was anything wrong with not being able to afford an owl. After all, he’d never had any money in his life until a month ago, and he told Ron so, all about having to wear Dudley’s old clothes and never getting proper birthday presents. This seemed to cheer Ron up. ‘... and until Hagrid told me, I didn’t know anything about being a wizard or about my parents or Voldemort –’ Ron gasped. ‘What?’ said Harry. ‘You said You-Know-Who’s name!’ said Ron, sounding both shocked and impressed. ‘I’d have thought you, of all people –’ ‘I’m not trying to be brave or anything, saying the name,’ said Harry. ‘I just never knew you shouldn’t. See what I mean? I’ve got loads to learn ... I bet,’ he added, voicing for the first time', Metadata=)\n"
     ]
    }
   ],
   "source": [
    "const string question = \"What is Harry's Address?\";\n",
    "var similarDocuments = await vectorCollection.GetSimilarDocuments(embeddingModel, question, amount: 5);\n",
    "// Use similar documents and LLM to answer the question\n",
    "var answer = await llm.GenerateAsync(\n",
    "    $\"\"\"\n",
    "     Use the following pieces of context to answer the question at the end.\n",
    "     If the answer is not in context then just say that you don't know, don't try to make up an answer.\n",
    "     Keep the answer as short as possible.\n",
    "\n",
    "     {similarDocuments.AsString()}\n",
    "\n",
    "     Question: {question}\n",
    "     Helpful Answer:\n",
    "     \"\"\").ConfigureAwait(false);\n",
    "\n",
    "Console.WriteLine($\"LLM answer: {answer}\");\n",
    "Console.WriteLine(\"Similar Documents:\");\n",
    "foreach(var document in similarDocuments)\n",
    "{\n",
    "    Console.WriteLine(document);\n",
    "}"
   ]
  }
 ],
 "metadata": {
  "kernelspec": {
   "display_name": ".NET (C#)",
   "language": "C#",
   "name": ".net-csharp"
  },
  "language_info": {
   "name": "python"
  },
  "polyglot_notebook": {
   "kernelInfo": {
    "defaultKernelName": "csharp",
    "items": [
     {
      "aliases": [],
      "name": "csharp"
     }
    ]
   }
  }
 },
 "nbformat": 4,
 "nbformat_minor": 2
}
