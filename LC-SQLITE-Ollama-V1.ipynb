{
 "cells": [
  {
   "cell_type": "code",
   "execution_count": 1,
   "metadata": {
    "dotnet_interactive": {
     "language": "csharp"
    },
    "polyglot_notebook": {
     "kernelName": "csharp"
    },
    "vscode": {
     "languageId": "polyglot-notebook"
    }
   },
   "outputs": [
    {
     "data": {
      "text/html": [
       "<div><div></div><div></div><div><strong>Installed Packages</strong><ul><li><span>Langchain, 0.14.1-dev.8</span></li><li><span>Langchain.Core, 0.14.1-dev.8</span></li><li><span>LangChain.Databases.Sqlite, 0.14.1-dev.8</span></li><li><span>LangChain.DocumentLoaders.Pdf, 0.14.1-dev.8</span></li><li><span>LangChain.Providers.Ollama, 0.14.1-dev.8</span></li><li><span>LangChain.Splitters.CSharp, 0.14.1-dev.8</span></li></ul></div></div>"
      ]
     },
     "metadata": {},
     "output_type": "display_data"
    }
   ],
   "source": [
    "#r \"nuget: Langchain, *-*\"\n",
    "#r \"nuget: Langchain.Core,*-*\"\n",
    "#r \"nuget: LangChain.DocumentLoaders.Pdf, *-*\"\n",
    "#r \"nuget: LangChain.Databases.Sqlite, *-*\"\n",
    "#r \"nuget: LangChain.Providers.Ollama, *-*\"\n",
    "#r \"nuget: LangChain.Splitters.CSharp, *-*\""
   ]
  },
  {
   "cell_type": "code",
   "execution_count": 2,
   "metadata": {
    "dotnet_interactive": {
     "language": "csharp"
    },
    "polyglot_notebook": {
     "kernelName": "csharp"
    },
    "vscode": {
     "languageId": "polyglot-notebook"
    }
   },
   "outputs": [],
   "source": [
    "using LangChain.Base;\n",
    "using LangChain.Databases.Sqlite;\n",
    "using LangChain.DocumentLoaders;\n",
    "using LangChain.Providers;\n",
    "using static LangChain.Chains.Chain;\n",
    "using LangChain.Providers.Ollama;\n",
    "using LangChain.Splitters.Text;\n",
    "using LangChain.Extensions;\n",
    "using OpenAI.Constants;\n",
    "using System.Net.NetworkInformation;\n",
    "using DataSource = LangChain.DocumentLoaders.DataSource;\n",
    "using System.Threading;"
   ]
  },
  {
   "cell_type": "code",
   "execution_count": 3,
   "metadata": {
    "dotnet_interactive": {
     "language": "csharp"
    },
    "polyglot_notebook": {
     "kernelName": "csharp"
    },
    "vscode": {
     "languageId": "polyglot-notebook"
    }
   },
   "outputs": [],
   "source": [
    "\n",
    "var embeddingModel = new OllamaEmbeddingModel(new OllamaProvider(), id: \"all-minilm\");\n",
    "var llm = new OllamaLanguageModelInstruction(\n",
    "    \"llama3\",\n",
    "    options: new OllamaLanguageModelOptions\n",
    "    {\n",
    "        Stop = [\"\\n\"],\n",
    "        Temperature = 0.0f,\n",
    "    });\n",
    "\n",
    "var vectorDatabase = new SqLiteVectorDatabase(dataSource: \"vectors.db\");"
   ]
  },
  {
   "cell_type": "code",
   "execution_count": 4,
   "metadata": {
    "dotnet_interactive": {
     "language": "csharp"
    },
    "polyglot_notebook": {
     "kernelName": "csharp"
    },
    "vscode": {
     "languageId": "polyglot-notebook"
    }
   },
   "outputs": [],
   "source": [
    "var vectorCollection = await vectorDatabase.AddDocumentsFromAsync<PdfPigPdfLoader>(\n",
    "    embeddingModel, // Used to convert text to embeddings\n",
    "    dimensions: 1536, // Should be 1536 for TextEmbeddingV3SmallModel\n",
    "    dataSource: DataSource.FromUrl(\"https://canonburyprimaryschool.co.uk/wp-content/uploads/2016/01/Joanne-K.-Rowling-Harry-Potter-Book-1-Harry-Potter-and-the-Philosophers-Stone-EnglishOnlineClub.com_.pdf\"),\n",
    "    collectionName: \"harrypotter\", // Can be omitted, use if you want to have multiple collections\n",
    "    textSplitter: null);"
   ]
  },
  {
   "cell_type": "code",
   "execution_count": 5,
   "metadata": {
    "vscode": {
     "languageId": "polyglot-notebook"
    }
   },
   "outputs": [
    {
     "name": "stdout",
     "output_type": "stream",
     "text": [
      "LLM answer:  The address written on the letter is: Mr H. Potter The Cupboard under the Stairs 4 Privet Drive Little Whinging Surrey\n"
     ]
    }
   ],
   "source": [
    "const string question = \"What is Harry's Address?\";\n",
    "var similarDocuments = await vectorCollection.GetSimilarDocuments(embeddingModel, question, amount: 5);\n",
    "CancellationToken cancellationToken = default;\n",
    "// Use similar documents and LLM to answer the question\n",
    "var answer = await llm.GenerateAsync(\n",
    "    $\"\"\"\n",
    "     Use the following pieces of context to answer the question at the end.\n",
    "     If the answer is not in context then just say that you don't know, don't try to make up an answer.\n",
    "     Keep the answer as short as possible.\n",
    "\n",
    "     {similarDocuments.AsString()}\n",
    "\n",
    "     Question: {question}\n",
    "     Helpful Answer:\n",
    "     \"\"\", cancellationToken: cancellationToken).ConfigureAwait(false);\n",
    "\n",
    "Console.WriteLine($\"LLM answer: {answer}\"); // The cloaked figure."
   ]
  }
 ],
 "metadata": {
  "kernelspec": {
   "display_name": ".NET (C#)",
   "language": "C#",
   "name": ".net-csharp"
  },
  "language_info": {
   "name": "python"
  },
  "polyglot_notebook": {
   "kernelInfo": {
    "defaultKernelName": "csharp",
    "items": [
     {
      "aliases": [],
      "name": "csharp"
     }
    ]
   }
  }
 },
 "nbformat": 4,
 "nbformat_minor": 2
}
